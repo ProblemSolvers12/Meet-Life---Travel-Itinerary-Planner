{
  "cells": [
    {
      "cell_type": "markdown",
      "metadata": {
        "id": "P-H6Lw1vyNNd"
      },
      "source": [
        "<div class=\"markdown-google-sans\">\n",
        "\n",
        "<a name=\"machine-learning-examples\"></a>\n",
        "\n",
        "### Featured examples\n",
        "\n",
        "</div>\n",
        "\n",
        "- [Retraining an Image Classifier](https://tensorflow.org/hub/tutorials/tf2_image_retraining): Build a Keras model on top of a pre-trained image classifier to distinguish flowers.\n",
        "- [Text Classification](https://tensorflow.org/hub/tutorials/tf2_text_classification): Classify IMDB movie reviews as either *positive* or *negative*.\n",
        "- [Style Transfer](https://tensorflow.org/hub/tutorials/tf2_arbitrary_image_stylization): Use deep learning to transfer style between images.\n",
        "- [Multilingual Universal Sentence Encoder Q&A](https://tensorflow.org/hub/tutorials/retrieval_with_tf_hub_universal_encoder_qa): Use a machine learning model to answer questions from the SQuAD dataset.\n",
        "- [Video Interpolation](https://tensorflow.org/hub/tutorials/tweening_conv3d): Predict what happened in a video between the first and the last frame.\n"
      ]
    },
    {
      "cell_type": "code",
      "execution_count": 2,
      "metadata": {
        "colab": {
          "base_uri": "https://localhost:8080/"
        },
        "id": "4CHKAHT4OEUO",
        "outputId": "a3eca26e-8790-49a1-fbe5-b5bcab48d24b"
      },
      "outputs": [
        {
          "name": "stdout",
          "output_type": "stream",
          "text": [
            "Mean Squared Error: 0.0007846803316326537\n",
            "Enter city: Manali\n",
            "Available property types in Manali: ['Resort' 'Cottage' 'Villa' 'Hotel' 'Tent' 'BnB' 'Farm Stay' 'Homestay']\n",
            "Select property type from above (or press Enter to skip): Resort\n",
            "Enter required number of rooms: 2\n",
            "The top 5 hotels are:\n",
            "       latitude  longitude                       property_name  \\\n",
            "1590  32.206290  77.190559               Citrus Manali Resorts   \n",
            "2659  32.207688  77.200419       The Serenity Resort &amp; Spa   \n",
            "2869  32.222023  77.189235    Thomas Villa, Hotel and Cottages   \n",
            "3169  32.219267  77.184638        Hotel Royal Orchard - Manali   \n",
            "473   32.137297  77.170665  Bharhka Countryside Cottage Resort   \n",
            "\n",
            "                                                address    city  \n",
            "1590  Kullu Manali National Highway, Manali, Distric...  Manali  \n",
            "2659  Near Shaminala, Village Jagatsukh, Naggar High...  Manali  \n",
            "2869       Kanyal Road, Manali, Himachal Pradesh (H.P.)  Manali  \n",
            "3169                      Kanyal road, Gadherni, Manali  Manali  \n",
            "473   Left bank - Naggar road,near Sarsai, Bharhka p...  Manali  \n"
          ]
        }
      ],
      "source": [
        "import pandas as pd\n",
        "from sklearn.model_selection import train_test_split\n",
        "from sklearn.ensemble import RandomForestRegressor\n",
        "from sklearn.metrics import mean_squared_error\n",
        "\n",
        "# Load the dataset\n",
        "file_path = 'hotel_with_restaurantf.csv'\n",
        "df = pd.read_csv(file_path)\n",
        "\n",
        "# Fill missing values with 2 for rating columns and ensure all values are numeric\n",
        "rating_columns = ['Service Quality', 'Amenities', 'Food and Drinks', 'Value for Money', 'Location', 'Cleanliness', 'multi_cuisine_restaurant']\n",
        "df[rating_columns] = df[rating_columns].apply(pd.to_numeric, errors='coerce').fillna(2)\n",
        "\n",
        "# Calculate composite score\n",
        "df['Score'] = df[rating_columns].mean(axis=1)\n",
        "\n",
        "# Define features and target\n",
        "X = df[rating_columns]\n",
        "y = df['Score']\n",
        "\n",
        "# Split the data into training and test sets\n",
        "X_train, X_test, y_train, y_test = train_test_split(X, y, test_size=0.2, random_state=42)\n",
        "\n",
        "# Train the model\n",
        "model = RandomForestRegressor(random_state=42)\n",
        "model.fit(X_train, y_train)\n",
        "\n",
        "# Predict on the test set\n",
        "y_pred = model.predict(X_test)\n",
        "\n",
        "# Calculate mean squared error\n",
        "mse = mean_squared_error(y_test, y_pred)\n",
        "print(f'Mean Squared Error: {mse}')\n",
        "\n",
        "def get_property_types(city, df):\n",
        "    # Get unique property types in the selected city\n",
        "    property_types = df[df['city'] == city]['property_type'].unique()\n",
        "    return property_types\n",
        "\n",
        "def recommend_hotels(city, room_count, property_type, df, model):\n",
        "    # Filter by city\n",
        "    city_df = df[df['city'] == city]\n",
        "\n",
        "    # Filter by room count\n",
        "    city_df = city_df[city_df['room_count'] >= room_count]\n",
        "\n",
        "    # If property type is specified, filter by property type\n",
        "    if property_type:\n",
        "        city_df = city_df[city_df['property_type'] == property_type]\n",
        "\n",
        "    # If no hotels match the filters, return the highest score hotels in the city\n",
        "    if city_df.empty:\n",
        "        city_df = df[df['city'] == city]\n",
        "\n",
        "    # Predict scores for filtered hotels\n",
        "    features = city_df[rating_columns]\n",
        "    city_df['Predicted_Score'] = model.predict(features)\n",
        "\n",
        "    # Get the top 5 hotels with the highest predicted score\n",
        "    top_5_hotels = city_df.nlargest(5, 'Predicted_Score')\n",
        "\n",
        "    # Select only the required columns\n",
        "    top_5_hotels = top_5_hotels[['latitude', 'longitude', 'property_name', 'address', 'city']]\n",
        "\n",
        "    return top_5_hotels\n",
        "\n",
        "# Example usage\n",
        "city = input(\"Enter city: \")\n",
        "property_types = get_property_types(city, df)\n",
        "print(f\"Available property types in {city}: {property_types}\")\n",
        "\n",
        "property_type = input(\"Select property type from above (or press Enter to skip): \")\n",
        "room_count = int(input(\"Enter required number of rooms: \"))\n",
        "\n",
        "top_5_hotels = recommend_hotels(city, room_count, property_type if property_type else None, df, model)\n",
        "print(f\"The top 5 hotels are:\\n{top_5_hotels}\")"
      ]
    }
  ],
  "metadata": {
    "colab": {
      "name": "Welcome To Colab",
      "provenance": []
    },
    "kernelspec": {
      "display_name": "Python 3",
      "name": "python3"
    }
  },
  "nbformat": 4,
  "nbformat_minor": 0
}
